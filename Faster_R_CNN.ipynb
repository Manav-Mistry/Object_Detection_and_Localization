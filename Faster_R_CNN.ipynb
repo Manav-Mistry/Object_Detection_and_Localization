{
  "nbformat": 4,
  "nbformat_minor": 0,
  "metadata": {
    "colab": {
      "provenance": []
    },
    "kernelspec": {
      "name": "python3",
      "display_name": "Python 3"
    },
    "language_info": {
      "name": "python"
    },
    "accelerator": "TPU"
  },
  "cells": [
    {
      "cell_type": "markdown",
      "source": [
        "## Object Detection and Localization using R-CNN"
      ],
      "metadata": {
        "id": "xHENzmloqwLO"
      }
    },
    {
      "cell_type": "code",
      "source": [
        "import tensorflow as tf\n",
        "import tensorflow_hub as hub\n",
        "from PIL import Image\n",
        "from PIL import ImageOps\n",
        "import tempfile\n",
        "from six.moves.urllib.request import urlopen\n",
        "from six import BytesIO"
      ],
      "metadata": {
        "id": "lnYaog7wq2Q6"
      },
      "execution_count": 1,
      "outputs": []
    },
    {
      "cell_type": "markdown",
      "source": [
        "### downloading module from tensorflow hub"
      ],
      "metadata": {
        "id": "T2zv_aOcsW7j"
      }
    },
    {
      "cell_type": "code",
      "source": [
        "module_handle = \"https://tfhub.dev/google/faster_rcnn/openimages_v4/inception_resnet_v2/1\";\n",
        "\n",
        "detector = hub.load(module_handle).signatures['default']"
      ],
      "metadata": {
        "id": "RhmlW4C_sdoP"
      },
      "execution_count": 2,
      "outputs": []
    },
    {
      "cell_type": "markdown",
      "source": [
        "### function for download and resize"
      ],
      "metadata": {
        "id": "uj5VvSf8FVFC"
      }
    },
    {
      "cell_type": "code",
      "source": [
        "def download_and_resize_image(url, new_width=256, new_height=256):\n",
        "  \"\"\"\n",
        "  Fetches an image online, resizes it and saves it locally.\n",
        "\n",
        "  Args:\n",
        "    url (string) -- link to the image\n",
        "    new_width (int) -- size iin pixels used for resizing the width of the image\n",
        "    new_height (int) -- size in pixels used for resizing the length of the image\n",
        "\n",
        "  Returns:\n",
        "    (string) -- path to saved image\n",
        "  \"\"\"\n",
        "\n",
        "  # create a temporary file ending with \".jpg\"\n",
        "  _, filename = tempfile.mkstemp(suffix=\".jpg\")\n",
        "\n",
        "  # opens the given URL\n",
        "  response = urlopen(url)\n",
        "\n",
        "  # reads the image fetched from the URL\n",
        "  image_data = response.read()\n",
        "\n",
        "  # puts the image data in memory buffer\n",
        "  image_data = BytesIO(image_data)\n",
        "\n",
        "  # opens the image\n",
        "  pil_image = Image.open(image_data)\n",
        "\n",
        "  # resizes the image. will crop if aspect ratio is different.\n",
        "  pil_image = ImageOps.fit(pil_image, (new_width, new_height), Image.ANTIALIAS)\n",
        "\n",
        "  # converts to the RGB colorspace\n",
        "  pil_image_rgb = pil_image.convert(\"RGB\")\n",
        "\n",
        "  # saves the image to the temporary file created earlier\n",
        "  pil_image_rgb.save(filename, format=\"JPEG\", quality=90)\n",
        "\n",
        "  print(\"Image downloaded to %s.\" % filename)\n",
        "\n",
        "  return filename"
      ],
      "metadata": {
        "id": "0MvKt9B5DMqb"
      },
      "execution_count": 3,
      "outputs": []
    },
    {
      "cell_type": "code",
      "source": [
        "img_url = \"https://upload.wikimedia.org/wikipedia/commons/f/fb/20130807_dublin014.JPG\";\n",
        "\n",
        "downloaded_image_path = download_and_resize_image(\n",
        "    url = img_url,\n",
        "    new_width = 3872,\n",
        "    new_height = 2592\n",
        ")"
      ],
      "metadata": {
        "colab": {
          "base_uri": "https://localhost:8080/"
        },
        "id": "7VM5MM0TC-_s",
        "outputId": "72277535-5e5d-4b38-e5c4-19e7020d5b3c"
      },
      "execution_count": 4,
      "outputs": [
        {
          "output_type": "stream",
          "name": "stdout",
          "text": [
            "Image downloaded to /tmp/tmpaubj330c.jpg.\n"
          ]
        },
        {
          "output_type": "stream",
          "name": "stderr",
          "text": [
            "<ipython-input-3-081da85fe049>:30: DeprecationWarning: ANTIALIAS is deprecated and will be removed in Pillow 10 (2023-07-01). Use LANCZOS or Resampling.LANCZOS instead.\n",
            "  pil_image = ImageOps.fit(pil_image, (new_width, new_height), Image.ANTIALIAS)\n"
          ]
        }
      ]
    },
    {
      "cell_type": "markdown",
      "source": [
        "### Load_img to convert tensor to image\n",
        "### run_detector to detect object and draw bounding lines\n"
      ],
      "metadata": {
        "id": "eM56tQ0NGAfG"
      }
    },
    {
      "cell_type": "code",
      "source": [
        "def load_img(path):\n",
        "  \"\"\"\n",
        "  Loads a JPEG image and converts it to a tensor.\n",
        "\n",
        "  Args:\n",
        "    path (string) -- path to a locally saved JPEG image\n",
        "\n",
        "  Returns:\n",
        "    (tensor) -- an image tensor\n",
        "  \"\"\"\n",
        "\n",
        "  # read the file\n",
        "  img = tf.io.read_file(path)\n",
        "\n",
        "  # convert to a tensor\n",
        "  img = tf.image.decode_jpeg(img, channels=3)\n",
        "\n",
        "  return img\n",
        "\n",
        "def run_detector(detector, path):\n",
        "  \"\"\"\n",
        "  Runs inference on a local files using an object detection model.\n",
        "\n",
        "  Args:\n",
        "    detector (model) -- an object detection model loaded from TF hub\n",
        "    path (string) -- path to an image saved locally\n",
        "  \"\"\"\n",
        "\n",
        "  # load an image tensor from a local file path\n",
        "  img = load_img(path)\n",
        "\n",
        "  # add a batch dimension in front of the tensor\n",
        "  converted_img = tf.image.convert_image_dtype(img, tf.float32)[tf.newaxis, ...]\n",
        "\n",
        "  # run inference using the model\n",
        "  result = detector(converted_img)\n",
        "\n",
        "  # save the results in a dictionary\n",
        "  result = {key: value.numpy() for key, value in result.items()}\n",
        "\n",
        "  # print results\n",
        "  print(\"Found %d objects.\" % len(result[\"detection_scores\"]))\n",
        "\n",
        "  print(result[\"detection_scores\"])\n",
        "  print(result[\"detection_class_entities\"])\n",
        "  print(result[\"detection_boxes\"])"
      ],
      "metadata": {
        "id": "DuEnOLhYHX4s"
      },
      "execution_count": 5,
      "outputs": []
    },
    {
      "cell_type": "code",
      "source": [
        "run_detector(detector, downloaded_image_path)"
      ],
      "metadata": {
        "id": "kVCy88a2IX4k"
      },
      "execution_count": null,
      "outputs": []
    },
    {
      "cell_type": "markdown",
      "source": [
        "### Clone the tensorflow models repository"
      ],
      "metadata": {
        "id": "Z7WmPB2SJCtm"
      }
    },
    {
      "cell_type": "code",
      "source": [
        "!git clone --depth 1 https://github.com/tensorflow/models"
      ],
      "metadata": {
        "colab": {
          "base_uri": "https://localhost:8080/"
        },
        "id": "3_l9zCIBJBD9",
        "outputId": "7ac2a912-5c4d-438a-c3e5-80664d832f9c"
      },
      "execution_count": 7,
      "outputs": [
        {
          "output_type": "stream",
          "name": "stdout",
          "text": [
            "Cloning into 'models'...\n",
            "remote: Enumerating objects: 3984, done.\u001b[K\n",
            "remote: Counting objects: 100% (3984/3984), done.\u001b[K\n",
            "remote: Compressing objects: 100% (3085/3085), done.\u001b[K\n",
            "remote: Total 3984 (delta 1159), reused 1954 (delta 842), pack-reused 0\u001b[K\n",
            "Receiving objects: 100% (3984/3984), 49.75 MiB | 25.99 MiB/s, done.\n",
            "Resolving deltas: 100% (1159/1159), done.\n"
          ]
        }
      ]
    },
    {
      "cell_type": "code",
      "source": [
        "# protoc object_detection/protos/*.proto --python_out=.\n",
        "\n",
        "!cd models/research/\n",
        "!protoc object_detection/protos/*.proto --python_out=.\n",
        "\n",
        "!cp object_detection/packages/tf2/setup.py .\n",
        "!python -m pip install"
      ],
      "metadata": {
        "colab": {
          "base_uri": "https://localhost:8080/"
        },
        "id": "YzVrd8w3VLVP",
        "outputId": "6ee2e466-90e0-4c61-ed37-18fc3a8eb993"
      },
      "execution_count": 9,
      "outputs": [
        {
          "output_type": "stream",
          "name": "stdout",
          "text": [
            "Could not make proto path relative: object_detection/protos/*.proto: No such file or directory\n",
            "cp: cannot stat 'object_detection/packages/tf2/setup.py': No such file or directory\n",
            "\u001b[31mERROR: You must give at least one requirement to install (see \"pip help install\")\u001b[0m\u001b[31m\n",
            "\u001b[0m"
          ]
        }
      ]
    }
  ]
}